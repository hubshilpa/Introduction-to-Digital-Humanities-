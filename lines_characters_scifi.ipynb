{
 "cells": [
  {
   "cell_type": "code",
   "execution_count": 1,
   "metadata": {},
   "outputs": [
    {
     "data": {
      "text/plain": [
       "[{'': 'm301',\n",
       "  'characterID_1': 'u49',\n",
       "  'characterID_2': 'u55',\n",
       "  'list_utterance': \"['L3712' 'L3713']\",\n",
       "  'movieID': 'm3'},\n",
       " {'': 'm571',\n",
       "  'characterID_1': 'u49',\n",
       "  'characterID_2': 'u55',\n",
       "  'list_utterance': \"['L3720' 'L3721']\",\n",
       "  'movieID': 'm3'}]"
      ]
     },
     "execution_count": 1,
     "metadata": {},
     "output_type": "execute_result"
    }
   ],
   "source": [
    "### Taken from the course: Introduction to python \n",
    "def read_csv(input_file, delimiter=\",\"):\n",
    "    # your code here\n",
    "    \"\"\"\n",
    "    Read a file with keyword parameter: delimiter, set to default ',' (split file on comma)\n",
    "    and return the content of the file as a alpabetically sorted 'list of dicts'\n",
    "    \"\"\"\n",
    "    \n",
    "    # create a list to collect the rows:\n",
    "    data = []\n",
    "    \n",
    "    with open(input_file, \"r\") as file:\n",
    "        content = file.read()\n",
    "        content = content.split('\\n') # remove all newlines  \n",
    "        \n",
    "    # the first row is at index 0 and contains the headers\n",
    "    headers = content[0]\n",
    "\n",
    "    # consider everything following the header row as data\n",
    "    for line in content[1::]:\n",
    "        value_list = line.split(delimiter) # split the line into columns\n",
    "        header_list = headers.split(delimiter) # split the header \n",
    "        \n",
    "        # Create a dictionary and add to list\n",
    "        dict_row = {}\n",
    "\n",
    "        # zip for iterating over two lists at the same time\n",
    "        dict_row = dict(zip(header_list, value_list))\n",
    "        \n",
    "        ###Taken from [https://stackoverflow.com/questions/9001509/how-can-i-sort-a-dictionary-by-key] [2/10/2021]\n",
    "        # looked up how to sort a dict on keys\n",
    "        sorted_dict = dict(sorted(dict_row.items()))\n",
    "        ###\n",
    "       \n",
    "        # add the dictionary to list\n",
    "        data.append(sorted_dict)\n",
    "\n",
    "    return data\n",
    "\n",
    "# test of function\n",
    "# print the csv file as a dictionary\n",
    "filename = \"movie_convo_scifi.csv\"\n",
    "convo_scifi = read_csv(filename) \n",
    "convo_scifi[0:2]"
   ]
  },
  {
   "cell_type": "code",
   "execution_count": 2,
   "metadata": {},
   "outputs": [
    {
     "data": {
      "text/plain": [
       "[('u49', 'm3', 14), ('u50', 'm3', 122)]"
      ]
     },
     "execution_count": 2,
     "metadata": {},
     "output_type": "execute_result"
    }
   ],
   "source": [
    "# create empty dic and list to append data from dictionary\n",
    "dic = dict()\n",
    "amount_sentences = [] \n",
    "for key in convo_scifi:\n",
    "    character = key['characterID_1'] \n",
    "    list_utterance = key['list_utterance']\n",
    "    movie_id = key['movieID']\n",
    "    \n",
    "    # remove the bracket & quotation marks from the list_utterance key and make it a list\n",
    "    utterance = list_utterance.replace(\"' '\", \" \").replace(\"['\", \"\").replace(\"']\", \"\").split()\n",
    "    \n",
    "    # get the number of lines \n",
    "    num = len(utterance)\n",
    "    \n",
    "    # add the information to a dict\n",
    "    if character not in dic:\n",
    "        dic[character] = []\n",
    "    dic[character].append({\"list_utterance\": utterance, \"number\": num, \"movie_id\": movie_id})\n",
    "\n",
    "    \n",
    "for character_id,info_list in dic.items():\n",
    "    ###Taken from [https://stackoverflow.com/questions/21518271/how-to-sum-values-of-the-same-key-in-a-dictionary] [14/10/2021]\n",
    "    ## get the sum of the number of lines per character \n",
    "    som = sum(d.get('number', 0) for d in info_list)\n",
    "    ###\n",
    "\n",
    "    amount_sentences.append((character_id, info_list[0]['movie_id'], som))\n",
    "\n",
    "# test of function\n",
    "amount_sentences[0:2]  "
   ]
  },
  {
   "cell_type": "code",
   "execution_count": 3,
   "metadata": {},
   "outputs": [],
   "source": [
    "# To copy info into spreadsheet, print the information as str:\n",
    "# for x in amount_sentences:\n",
    "#     print(str(x[2]))"
   ]
  },
  {
   "cell_type": "code",
   "execution_count": 4,
   "metadata": {},
   "outputs": [
    {
     "data": {
      "text/plain": [
       "[{'characterID': 'u78',\n",
       "  'character_name': 'CORNELIUS',\n",
       "  'gender': 'm',\n",
       "  'movieID': 'm5',\n",
       "  'movie_title': 'the fifth element'},\n",
       " {'characterID': 'u79',\n",
       "  'character_name': 'DAVID',\n",
       "  'gender': 'm',\n",
       "  'movieID': 'm5',\n",
       "  'movie_title': 'the fifth element'}]"
      ]
     },
     "execution_count": 4,
     "metadata": {},
     "output_type": "execute_result"
    }
   ],
   "source": [
    "# print the csv file as a dictionary\n",
    "filename = \"scifi_characters.csv\"\n",
    "character_scifi = read_csv(filename) \n",
    "\n",
    "# test of function\n",
    "character_scifi[0:2]"
   ]
  },
  {
   "cell_type": "code",
   "execution_count": 5,
   "metadata": {},
   "outputs": [
    {
     "data": {
      "text/plain": [
       "[('u78', 'u78', 'm5', 'the fifth element', 'CORNELIUS', 'm', 118),\n",
       " ('u80', 'u80', 'm5', 'the fifth element', 'DIVA', 'f', 15)]"
      ]
     },
     "execution_count": 5,
     "metadata": {},
     "output_type": "execute_result"
    }
   ],
   "source": [
    "# create empty list\n",
    "info = [] \n",
    "for x in amount_sentences:\n",
    "    char = x[0]\n",
    "    for gen in character_scifi:\n",
    "        # if characters are the same in the dict and strings,\n",
    "        # append the information to a list of tuples\n",
    "        if gen['characterID'] == char:\n",
    "            info.append((char, gen['characterID'], x[1], gen['movie_title'], gen['character_name'], gen['gender'], x[2]))\n",
    "# test of function\n",
    "info[0:2]  "
   ]
  },
  {
   "cell_type": "code",
   "execution_count": 6,
   "metadata": {},
   "outputs": [],
   "source": [
    "# To copy info into spreadsheet, print the information as str:\n",
    "# for x in info:\n",
    "#     print(x[6])"
   ]
  }
 ],
 "metadata": {
  "kernelspec": {
   "display_name": "Python 3",
   "language": "python",
   "name": "python3"
  },
  "language_info": {
   "codemirror_mode": {
    "name": "ipython",
    "version": 3
   },
   "file_extension": ".py",
   "mimetype": "text/x-python",
   "name": "python",
   "nbconvert_exporter": "python",
   "pygments_lexer": "ipython3",
   "version": "3.7.4"
  }
 },
 "nbformat": 4,
 "nbformat_minor": 2
}
