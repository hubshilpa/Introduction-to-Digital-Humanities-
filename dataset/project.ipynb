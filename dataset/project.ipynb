{
 "cells": [
  {
   "cell_type": "markdown",
   "metadata": {},
   "source": [
    "## Get the number of lines per character"
   ]
  },
  {
   "cell_type": "markdown",
   "metadata": {},
   "source": [
    "Firstly, we will load in the data from Google Spreadsheets by downloading the file (sheet) as csv file. The function in the next part is to load the csv file in as a dictionary."
   ]
  },
  {
   "cell_type": "code",
   "execution_count": 1,
   "metadata": {},
   "outputs": [
    {
     "data": {
      "text/plain": [
       "[{'': 'm301',\n",
       "  'characterID_1': 'u49',\n",
       "  'characterID_2': 'u55',\n",
       "  'list_utterance': \"['L3712' 'L3713']\",\n",
       "  'movieID': 'm3'},\n",
       " {'': 'm571',\n",
       "  'characterID_1': 'u49',\n",
       "  'characterID_2': 'u55',\n",
       "  'list_utterance': \"['L3720' 'L3721']\",\n",
       "  'movieID': 'm3'}]"
      ]
     },
     "execution_count": 1,
     "metadata": {},
     "output_type": "execute_result"
    }
   ],
   "source": [
    "### Taken from the course: Introduction to python \n",
    "def read_csv(input_file, delimiter=\",\"):\n",
    "    # your code here\n",
    "    \"\"\"\n",
    "    Read a file with keyword parameter: delimiter, set to default ',' (split file on comma)\n",
    "    and return the content of the file as a alpabetically sorted 'list of dicts'\n",
    "    \"\"\"\n",
    "    \n",
    "    # create a list to collect the rows:\n",
    "    data = []\n",
    "    \n",
    "    with open(input_file, \"r\") as file:\n",
    "        content = file.read()\n",
    "        content = content.split('\\n') # remove all newlines  \n",
    "        \n",
    "    # the first row is at index 0 and contains the headers\n",
    "    headers = content[0]\n",
    "\n",
    "    # consider everything following the header row as data\n",
    "    for line in content[1::]:\n",
    "        value_list = line.split(delimiter) # split the line into columns\n",
    "        header_list = headers.split(delimiter) # split the header \n",
    "        \n",
    "        # Create a dictionary and add to list\n",
    "        dict_row = {}\n",
    "\n",
    "        # zip for iterating over two lists at the same time\n",
    "        dict_row = dict(zip(header_list, value_list))\n",
    "        \n",
    "        ###Taken from [https://stackoverflow.com/questions/9001509/how-can-i-sort-a-dictionary-by-key] [2/10/2021]\n",
    "        # looked up how to sort a dict on keys\n",
    "        sorted_dict = dict(sorted(dict_row.items()))\n",
    "        ###\n",
    "       \n",
    "        # add dictionary to list\n",
    "        data.append(sorted_dict)\n",
    "\n",
    "    return data\n",
    "\n",
    "# test of function\n",
    "# print the csv file as a dictionary\n",
    "filename = \"movie_convo_scifi.csv\"\n",
    "convo_scifi = read_csv(filename) \n",
    "convo_scifi[0:2]"
   ]
  },
  {
   "cell_type": "markdown",
   "metadata": {},
   "source": [
    "After you got the data as a dictionary we will do some cleaning and get the information we want, which in this case is the sum of the key: list_utterance per character.  "
   ]
  },
  {
   "cell_type": "code",
   "execution_count": 2,
   "metadata": {},
   "outputs": [
    {
     "data": {
      "text/plain": [
       "[('u49', 'm3', 14), ('u50', 'm3', 122)]"
      ]
     },
     "execution_count": 2,
     "metadata": {},
     "output_type": "execute_result"
    }
   ],
   "source": [
    "# create empty dic and list to append data from dictionary\n",
    "dic = dict()\n",
    "amount_sentences = [] \n",
    "for key in convo_scifi:\n",
    "    character = key['characterID_1'] \n",
    "    list_utterance = key['list_utterance']\n",
    "    movie_id = key['movieID']\n",
    "    \n",
    "    # remove the bracket & quotation marks from the list_utterance key and make it a list\n",
    "    utterance = list_utterance.replace(\"' '\", \" \").replace(\"['\", \"\").replace(\"']\", \"\").split()\n",
    "    \n",
    "    # get the number of lines \n",
    "    num = len(utterance)\n",
    "    \n",
    "    # add the information to a dict\n",
    "    if character not in dic:\n",
    "        dic[character] = []\n",
    "    dic[character].append({\"list_utterance\": utterance, \"number\": num, \"movie_id\": movie_id})\n",
    "\n",
    "    \n",
    "for character_id,info_list in dic.items():\n",
    "    ###Taken from [https://stackoverflow.com/questions/21518271/how-to-sum-values-of-the-same-key-in-a-dictionary] [14/10/2021]\n",
    "    ## get the sum of the number of lines per character \n",
    "    som = sum(d.get('number', 0) for d in info_list)\n",
    "    ###\n",
    "\n",
    "    amount_sentences.append((character_id, info_list[0]['movie_id'], som))\n",
    "\n",
    "# test of function\n",
    "amount_sentences[0:2]  "
   ]
  },
  {
   "cell_type": "code",
   "execution_count": 3,
   "metadata": {},
   "outputs": [],
   "source": [
    "# To copy info into spreadsheet: sum_movie_convos_scifi, print the information as str:\n",
    "# for x in amount_sentences:\n",
    "#     print(str(x[2]))"
   ]
  },
  {
   "cell_type": "markdown",
   "metadata": {},
   "source": [
    "We load in another file to get the data on the characters, because we need the gender column for every character"
   ]
  },
  {
   "cell_type": "code",
   "execution_count": 4,
   "metadata": {},
   "outputs": [
    {
     "data": {
      "text/plain": [
       "[{'characterID': 'u78',\n",
       "  'character_name': 'CORNELIUS',\n",
       "  'gender': 'm',\n",
       "  'movieID': 'm5',\n",
       "  'movie_title': 'the fifth element'},\n",
       " {'characterID': 'u79',\n",
       "  'character_name': 'DAVID',\n",
       "  'gender': 'm',\n",
       "  'movieID': 'm5',\n",
       "  'movie_title': 'the fifth element'}]"
      ]
     },
     "execution_count": 4,
     "metadata": {},
     "output_type": "execute_result"
    }
   ],
   "source": [
    "# print the csv file as a dictionary\n",
    "filename = \"scifi_characters.csv\"\n",
    "character_scifi = read_csv(filename) \n",
    "\n",
    "# test of function\n",
    "character_scifi[0:2]"
   ]
  },
  {
   "cell_type": "markdown",
   "metadata": {},
   "source": [
    "Link the character data to the recently created: 'amount_sentences', which is the data on the sum of the number of lines and the chracterID and append the gender column to the data. As extra information we also added the data on movie title, movie id and character name."
   ]
  },
  {
   "cell_type": "code",
   "execution_count": 5,
   "metadata": {},
   "outputs": [
    {
     "data": {
      "text/plain": [
       "[('u78', 'm5', 'the fifth element', 'CORNELIUS', 'm', 118),\n",
       " ('u80', 'm5', 'the fifth element', 'DIVA', 'f', 15)]"
      ]
     },
     "execution_count": 5,
     "metadata": {},
     "output_type": "execute_result"
    }
   ],
   "source": [
    "# create empty list\n",
    "info_dic = [] \n",
    "for x in amount_sentences:\n",
    "    char = x[0]\n",
    "    for info in character_scifi:\n",
    "        # if characters are the same in the dict and strings,\n",
    "        # append the information to a list of tuples\n",
    "        if info['characterID'] == char:\n",
    "            info_dic.append((char, x[1], info['movie_title'], info['character_name'], info['gender'], x[2]))\n",
    "# test of function\n",
    "info_dic[0:2]  "
   ]
  },
  {
   "cell_type": "code",
   "execution_count": 6,
   "metadata": {},
   "outputs": [],
   "source": [
    "# To copy info into spreadsheet: sum_movie_convos_scifi, print the information as str:\n",
    "# for x in info:\n",
    "#     print(x[6])"
   ]
  },
  {
   "cell_type": "markdown",
   "metadata": {},
   "source": [
    "## Get the total amount of words in lines per gender"
   ]
  },
  {
   "cell_type": "markdown",
   "metadata": {},
   "source": [
    "Again, we firstly load in the data on the movie lines as a dictionary."
   ]
  },
  {
   "cell_type": "code",
   "execution_count": 7,
   "metadata": {},
   "outputs": [
    {
     "data": {
      "text/plain": [
       "[{'': '',\n",
       "  'characterID': 'u0',\n",
       "  'character_name': 'BIANCA',\n",
       "  'lineID': 'L1045',\n",
       "  'movieID': 'm0',\n",
       "  'text_utterance': 'They do not!'},\n",
       " {'': '',\n",
       "  'characterID': 'u2',\n",
       "  'character_name': 'CAMERON',\n",
       "  'lineID': 'L1044',\n",
       "  'movieID': 'm0',\n",
       "  'text_utterance': 'They do to!'}]"
      ]
     },
     "execution_count": 7,
     "metadata": {},
     "output_type": "execute_result"
    }
   ],
   "source": [
    "# print the csv file as a dictionary\n",
    "filename = \"movie_lines.csv\"\n",
    "lines_scifi = read_csv(filename) \n",
    "\n",
    "# test of function\n",
    "lines_scifi[0:2]"
   ]
  },
  {
   "cell_type": "markdown",
   "metadata": {},
   "source": [
    "Now we append the information of the characters gender and the lines into a list of tuples."
   ]
  },
  {
   "cell_type": "code",
   "execution_count": 8,
   "metadata": {},
   "outputs": [
    {
     "data": {
      "text/plain": [
       "[('m', \"I can't pretend to be your husband... David's in great shape.\"),\n",
       " ('m',\n",
       "  \"No I'm not proud of myself... But we don't have the luxury of choice.\")]"
      ]
     },
     "execution_count": 8,
     "metadata": {},
     "output_type": "execute_result"
    }
   ],
   "source": [
    "# create empty list\n",
    "line_info = [] \n",
    "for x in info_dic:\n",
    "    character = x[0]\n",
    "    for dic_info in lines_scifi:\n",
    "        # if characters are the same in the dict and strings,\n",
    "        # append the information to a list of tuples\n",
    "        if dic_info['characterID'] == character: \n",
    "                line_info.append((x[4], dic_info['text_utterance']))\n",
    "                \n",
    "# test of function\n",
    "line_info[0:2]"
   ]
  },
  {
   "cell_type": "markdown",
   "metadata": {},
   "source": [
    "In the function: *'join_by_first_item(list_of_tuples)'* we append all the lines to their respective gender. By doing this we get an tuple with as first item the gender and all the other items are the lines."
   ]
  },
  {
   "cell_type": "code",
   "execution_count": 9,
   "metadata": {},
   "outputs": [
    {
     "data": {
      "text/plain": [
       "('x',\n",
       " 'GOOD MORNING!',\n",
       " 'GOOD MORNING!',\n",
       " 'Good MORNING!',\n",
       " 'Good morning...',\n",
       " 'That sounds charming.  What are you planning to do tomorrow?',\n",
       " \"Tell me about the interesting people you met won't you?\",\n",
       " 'That sounds charming.  Did you meet any interesting people today?',\n",
       " 'Good evening.  Did you have a pleasant day today?')"
      ]
     },
     "execution_count": 9,
     "metadata": {},
     "output_type": "execute_result"
    }
   ],
   "source": [
    "### Taken from [https://stackoverflow.com/questions/55436362/find-tuple-in-list-with-same-first-item-and-return-another-list] [17/10/2021]\n",
    "# join the lines in tuple on first item in tuple (in this case the gender)\n",
    "def join_by_first_item(list_of_tuples):\n",
    "    out = {}\n",
    "    for tup in list_of_tuples:\n",
    "        try:\n",
    "            out[tup[0]].extend(tup[1:])\n",
    "        except KeyError:\n",
    "            out[tup[0]] = list(tup)\n",
    "    return [tuple(values) for values in out.values()]\n",
    "###\n",
    "\n",
    "var = join_by_first_item(line_info)\n",
    "\n",
    "# test of function\n",
    "var[3]"
   ]
  },
  {
   "cell_type": "markdown",
   "metadata": {},
   "source": [
    "These tuples we append to a list."
   ]
  },
  {
   "cell_type": "code",
   "execution_count": 10,
   "metadata": {},
   "outputs": [],
   "source": [
    "# create empty list\n",
    "lines_information = []\n",
    "for line in var:\n",
    "    gender = line[0]\n",
    "    lines = list(line[1:])\n",
    "    lines_information.append((gender, lines))\n",
    "    \n",
    "# test of function uncomment next line\n",
    "# lines_information"
   ]
  },
  {
   "cell_type": "markdown",
   "metadata": {},
   "source": [
    "Now we are going to import the necessary libaries to get total amount of words"
   ]
  },
  {
   "cell_type": "code",
   "execution_count": 11,
   "metadata": {},
   "outputs": [],
   "source": [
    "#import necessary libraries\n",
    "#for importing data and wrangling\n",
    "import pandas as pd\n",
    "import numpy as np\n",
    "import re\n",
    "from wordcloud import STOPWORDS"
   ]
  },
  {
   "cell_type": "markdown",
   "metadata": {},
   "source": [
    "The data: list of tuples we just created, is going to be put in a pandas DataFrame, which looks like a Spreadsheet."
   ]
  },
  {
   "cell_type": "code",
   "execution_count": 12,
   "metadata": {},
   "outputs": [
    {
     "data": {
      "text/html": [
       "<div>\n",
       "<style scoped>\n",
       "    .dataframe tbody tr th:only-of-type {\n",
       "        vertical-align: middle;\n",
       "    }\n",
       "\n",
       "    .dataframe tbody tr th {\n",
       "        vertical-align: top;\n",
       "    }\n",
       "\n",
       "    .dataframe thead th {\n",
       "        text-align: right;\n",
       "    }\n",
       "</style>\n",
       "<table border=\"1\" class=\"dataframe\">\n",
       "  <thead>\n",
       "    <tr style=\"text-align: right;\">\n",
       "      <th></th>\n",
       "      <th>gender</th>\n",
       "      <th>lines</th>\n",
       "    </tr>\n",
       "  </thead>\n",
       "  <tbody>\n",
       "    <tr>\n",
       "      <th>0</th>\n",
       "      <td>m</td>\n",
       "      <td>[I can't pretend to be your husband... David's...</td>\n",
       "    </tr>\n",
       "    <tr>\n",
       "      <th>1</th>\n",
       "      <td>f</td>\n",
       "      <td>[They are... with me..., I would like to have ...</td>\n",
       "    </tr>\n",
       "    <tr>\n",
       "      <th>2</th>\n",
       "      <td>n</td>\n",
       "      <td>[Thanks., Armed., Check at six minutes., Deton...</td>\n",
       "    </tr>\n",
       "    <tr>\n",
       "      <th>3</th>\n",
       "      <td>x</td>\n",
       "      <td>[GOOD MORNING!, GOOD MORNING!, Good MORNING!, ...</td>\n",
       "    </tr>\n",
       "  </tbody>\n",
       "</table>\n",
       "</div>"
      ],
      "text/plain": [
       "  gender                                              lines\n",
       "0      m  [I can't pretend to be your husband... David's...\n",
       "1      f  [They are... with me..., I would like to have ...\n",
       "2      n  [Thanks., Armed., Check at six minutes., Deton...\n",
       "3      x  [GOOD MORNING!, GOOD MORNING!, Good MORNING!, ..."
      ]
     },
     "execution_count": 12,
     "metadata": {},
     "output_type": "execute_result"
    }
   ],
   "source": [
    "# read data into DataFrame\n",
    "df = pd.DataFrame(lines_information, columns =['gender', 'lines'])\n",
    "  \n",
    "df"
   ]
  },
  {
   "cell_type": "markdown",
   "metadata": {},
   "source": [
    "We append the lines per gender to a list, which will be the corpus per gender. "
   ]
  },
  {
   "cell_type": "code",
   "execution_count": 13,
   "metadata": {},
   "outputs": [],
   "source": [
    "# #create a list of responses for each gender\n",
    "female_corpus = df[df['gender']=='f'].lines.tolist()\n",
    "male_corpus = df[df['gender']=='m'].lines.tolist()\n",
    "neutral_corpus = df[df['gender']=='n'].lines.tolist()\n",
    "unknown_corpus = df[df['gender']=='x'].lines.tolist()\n",
    "\n",
    "# test of function uncomment next line to test female corpus\n",
    "# female_corpus"
   ]
  },
  {
   "cell_type": "markdown",
   "metadata": {},
   "source": [
    "First with the created corpus per gender we are going to preprocess (clean) it. We will first lowercase the whole corpus. After that we will remove contractions from words and remove punctionation from the corpus.  "
   ]
  },
  {
   "cell_type": "code",
   "execution_count": 14,
   "metadata": {},
   "outputs": [],
   "source": [
    "def text_corpus(list_corpus):\n",
    "    \"\"\"Get the contents(lines) of the corpus \n",
    "    and return a string of the corpus text in lower case.\"\"\"\n",
    "    for lines in list_corpus:\n",
    "        # join the list and lowercase all the words\n",
    "        text = ' '.join(lines).lower()    \n",
    "    return text"
   ]
  },
  {
   "cell_type": "code",
   "execution_count": 15,
   "metadata": {},
   "outputs": [],
   "source": [
    "text_female = text_corpus(female_corpus)\n",
    "text_male = text_corpus(male_corpus)\n",
    "text_neutral = text_corpus(neutral_corpus)\n",
    "text_unknown = text_corpus(unknown_corpus)\n",
    "\n",
    "# test of function uncomment next line to test male corpus\n",
    "# text_male"
   ]
  },
  {
   "cell_type": "code",
   "execution_count": 16,
   "metadata": {},
   "outputs": [],
   "source": [
    "###Taken from [https://stackoverflow.com/questions/43018030/replace-apostrophe-short-words-in-python] [17/1/2021]\n",
    "# to make the words in sentences the same and be able to remove stopwords\n",
    "def decontracted(phrase):\n",
    "    # specific\n",
    "    phrase = re.sub(r\"won\\'t\", \"will not\", phrase)\n",
    "    phrase = re.sub(r\"can\\'t\", \"can not\", phrase)\n",
    "\n",
    "    # general\n",
    "    phrase = re.sub(r\"n\\'t\", \" not\", phrase)\n",
    "    phrase = re.sub(r\"\\'re\", \" are\", phrase)\n",
    "    phrase = re.sub(r\"\\'s\", \" is\", phrase)\n",
    "    phrase = re.sub(r\"\\'d\", \" would\", phrase)\n",
    "    phrase = re.sub(r\"\\'ll\", \" will\", phrase)\n",
    "    phrase = re.sub(r\"\\'t\", \" not\", phrase)\n",
    "    phrase = re.sub(r\"\\'ve\", \" have\", phrase)\n",
    "    phrase = re.sub(r\"\\'m\", \" am\", phrase)\n",
    "    return phrase\n",
    "###\n",
    "\n",
    "### Taken from the course: Introduction to python \n",
    "def clean_text_general(text, chars_to_remove = {'\\n', ',', '.', '\"', \"!\", \"-\", \"?\"}): \n",
    "    \"\"\"\n",
    "    Replace all characters that uses provides by empty spaces in a text.\n",
    "    \"\"\"\n",
    "    for char in chars_to_remove:\n",
    "        text = text.replace(char, '')\n",
    "        text = decontracted(text)\n",
    "    return text\n",
    "###"
   ]
  },
  {
   "cell_type": "code",
   "execution_count": 17,
   "metadata": {},
   "outputs": [],
   "source": [
    "clean_f = clean_text_general(text_female)\n",
    "clean_m = clean_text_general(text_male)\n",
    "clean_n = clean_text_general(text_neutral)\n",
    "clean_x = clean_text_general(text_unknown)"
   ]
  },
  {
   "cell_type": "markdown",
   "metadata": {},
   "source": [
    "In the next function we look at the (raw) frequency of words in the corpus and look at the top 50 words used per gender."
   ]
  },
  {
   "cell_type": "code",
   "execution_count": 18,
   "metadata": {},
   "outputs": [
    {
     "name": "stdout",
     "output_type": "stream",
     "text": [
      "Female: [('know', 175), ('will', 144), ('think', 90), ('want', 88), ('right', 84), ('one', 78), ('now', 77), ('go', 68), ('going', 60), ('oh', 55), ('something', 54), ('got', 53), ('really', 51), ('good', 49), ('way', 49), ('come', 49), ('back', 47), ('us', 47), ('see', 47), ('tell', 46), ('time', 44), ('well', 44), ('yeah', 44), ('look', 41), ('sorry', 40), ('never', 39), ('make', 39), ('maybe', 38), ('yes', 37), ('okay', 37), ('little', 37), ('mean', 35), ('need', 34), ('ted', 33), ('remember', 32), ('say', 31), ('things', 30), ('sure', 30), ('people', 28), ('love', 27), ('said', 26), ('take', 26), ('thing', 26), ('let', 26), ('thought', 26), ('gonna', 26), ('guy', 25), ('joel', 24), ('find', 23), ('must', 22)]\n",
      "\n",
      "Male: [('will', 401), ('know', 370), ('one', 195), ('think', 194), ('right', 193), ('go', 190), ('now', 180), ('got', 169), ('going', 168), ('us', 159), ('want', 158), ('well', 150), ('time', 146), ('yeah', 130), ('let', 126), ('see', 124), ('back', 114), ('oh', 111), ('tell', 110), ('good', 108), ('yes', 107), ('something', 106), ('okay', 106), ('need', 105), ('look', 98), ('come', 96), ('thing', 94), ('take', 91), ('say', 82), ('little', 81), ('never', 80), ('way', 79), ('make', 77), ('man', 74), ('maybe', 73), ('find', 72), ('really', 67), ('mean', 65), ('nothing', 65), ('people', 64), ('better', 64), ('anything', 63), ('even', 62), ('remember', 61), ('help', 61), ('sir', 61), ('sorry', 60), ('things', 60), ('sure', 58), ('still', 58)]\n",
      "\n",
      "Neutral: [('minutes', 6), ('detonation', 6), ('programmed', 6), ('seconds', 4), ('detonate', 4), ('will', 4), ('time', 4), ('course', 4), ('false', 3), ('data', 3), ('occur', 3), ('really', 3), ('well', 3), ('beryllium', 3), ('sphere', 3), ('thanks', 2), ('armed', 2), ('six', 2), ('twenty', 2), ('energy', 2), ('shielding', 2), ('positive', 2), ('function', 2), ('darkness', 2), ('exists', 2), ('nine', 2), ('read', 2), ('proof', 2), ('yes', 2), ('know', 2), ('outside', 2), ('universe', 2), ('fourteen', 2), ('systems', 2), ('register', 2), ('functional', 2), ('negative', 2), ('structural', 2), ('damage', 2), ('peace', 2), ('check', 1), ('saw', 1), ('alone', 1), ('beginning', 1), ('without', 1), ('form', 1), ('void', 1), ('thing', 1), ('act', 1), ('distraction', 1)]\n",
      "\n",
      "Unknown: [('good', 5), ('morning', 4), ('sounds', 2), ('charming', 2), ('interesting', 2), ('people', 2), ('today', 2), ('planning', 1), ('tomorrow', 1), ('tell', 1), ('met', 1), ('will', 1), ('meet', 1), ('evening', 1), ('pleasant', 1), ('day', 1)]\n"
     ]
    }
   ],
   "source": [
    "### Taken from the course: Introduction to python \n",
    "# create a dictionary of word frequencies\n",
    "def count(text):\n",
    "    \"\"\"\n",
    "    Determine how often each word occurs in a string.\n",
    "    \"\"\"\n",
    "    # call the function preprocess\n",
    "\n",
    "    words = text.split()\n",
    "    \n",
    "    words_count_dict = dict()\n",
    "    for word in words:\n",
    "        if word not in STOPWORDS:\n",
    "            if word in words_count_dict: # add 1 to the dictionary if the keys exists\n",
    "                words_count_dict[word] += 1 \n",
    "            else:\n",
    "                words_count_dict[word] = 1 # set default value to 1 if key does not exists \n",
    "    ###Taken from [https://towardsdatascience.com/generate-meaningful-word-clouds-in-python-5b85f5668eeb] [17/10/2021]\n",
    "    # sort the dictionary\n",
    "    word_freq={k:v for k, v in sorted(words_count_dict.items(),reverse=True, key=lambda item: item[1])}\n",
    "    ###\n",
    "    \n",
    "    return word_freq\n",
    "###\n",
    "word_freq_f = count(clean_f)\n",
    "word_freq_m = count(clean_m)\n",
    "word_freq_n = count(clean_n)\n",
    "word_freq_x = count(clean_x)\n",
    "\n",
    "#print results\n",
    "print(f\"Female: {list(word_freq_f.items())[:50]}\")\n",
    "print()\n",
    "print(f\"Male: {list(word_freq_m.items())[:50]}\")\n",
    "print()\n",
    "print(f\"Neutral: {list(word_freq_n.items())[:50]}\")\n",
    "print()\n",
    "print(f\"Unknown: {list(word_freq_x.items())[:50]}\")"
   ]
  },
  {
   "cell_type": "markdown",
   "metadata": {},
   "source": [
    "Next, we will get the sum of the values of the word_freq dict to get the total amount of words per gender."
   ]
  },
  {
   "cell_type": "code",
   "execution_count": 19,
   "metadata": {},
   "outputs": [
    {
     "name": "stdout",
     "output_type": "stream",
     "text": [
      " Female characters amount of words 9187\n",
      " Male characters amount of words 24529\n",
      " Neutral characters amount of words 185\n",
      " Unknown characters amount of words 28\n"
     ]
    }
   ],
   "source": [
    "female_words = sum(word_freq_f.values())\n",
    "male_words = sum(word_freq_m.values())\n",
    "neutral_words = sum(word_freq_n.values())\n",
    "unknown_words = sum(word_freq_x.values())\n",
    "\n",
    "print(f\" Female characters amount of words {female_words}\")\n",
    "print(f\" Male characters amount of words {male_words}\")\n",
    "print(f\" Neutral characters amount of words {neutral_words}\")\n",
    "print(f\" Unknown characters amount of words {unknown_words}\")"
   ]
  },
  {
   "cell_type": "code",
   "execution_count": null,
   "metadata": {},
   "outputs": [],
   "source": []
  }
 ],
 "metadata": {
  "kernelspec": {
   "display_name": "Python 3",
   "language": "python",
   "name": "python3"
  },
  "language_info": {
   "codemirror_mode": {
    "name": "ipython",
    "version": 3
   },
   "file_extension": ".py",
   "mimetype": "text/x-python",
   "name": "python",
   "nbconvert_exporter": "python",
   "pygments_lexer": "ipython3",
   "version": "3.7.4"
  }
 },
 "nbformat": 4,
 "nbformat_minor": 2
}
